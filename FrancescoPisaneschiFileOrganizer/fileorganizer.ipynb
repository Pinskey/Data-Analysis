{
 "cells": [
  {
   "cell_type": "markdown",
   "metadata": {},
   "source": [
    "Nella cartella *files* trovi 8 file:\n",
    "- 2 file di testo\n",
    "- 2 file audio\n",
    "- 4 immagini,\n",
    "\n",
    "con varie estensioni.\n",
    "\n",
    "**Step 1**\n",
    "\n",
    "Inizia creando, in un notebook, uno script Python che iteri in ordine alfabetico sui file della cartella files e, a seconda del tipo (audio, documento, immagine), li sposti nella relativa sottocartella (qui sotto trovi un esempio). Se la sottocartella non esiste, il tuo script dovrà crearla automaticamente.\n",
    "\n",
    "Durante il ciclo, lo script deve stampare le informazioni dei file: nome, tipo e dimensione in byte. Questo è l'output desiderato:"
   ]
  },
  {
   "cell_type": "code",
   "execution_count": 1,
   "metadata": {},
   "outputs": [
    {
     "name": "stdout",
     "output_type": "stream",
     "text": [
      "bw type:image size:94926B\n",
      "ciao type:doc size:12B\n",
      "daffodil type:image size:24657B\n",
      "eclipse type:image size:64243B\n",
      "pippo type:doc size:8299B\n",
      "song2 type:audio size:764176B\n",
      "trump type:image size:10195B\n"
     ]
    }
   ],
   "source": [
    "# Si imprtano le librerie necessarie per lo svolgimento\n",
    "import numpy as np\n",
    "import os\n",
    "from pathlib import Path\n",
    "import shutil\n",
    "import pandas as pd\n",
    "\n",
    "# Di seguito si va a selezionare la cartella su cui si andrà a lavorare\n",
    "directory = os.fsencode('files')\n",
    "\n",
    "# Si creano 3 liste per salvare rispettivamente nome del file, tipe e dimensione\n",
    "list_names = []\n",
    "list_types = []\n",
    "list_sizes = []\n",
    "\n",
    "# Si crea una variabile booleana per aiutarsi a verificare l' esistenza del file recap.csv\n",
    "recap_exists = False\n",
    "\n",
    "# Si inizializza un ciclo for sui file che sono contenuti nella directory\n",
    "for file_enc in sorted(os.listdir(directory)):\n",
    "    \n",
    "    # Si trasformano i file da variabile byte(file_enc) a stringa \n",
    "    file = os.fsdecode(file_enc)\n",
    "    # Si salva il percorso completo in una variabile\n",
    "    full_path = os.path.join('files',file)\n",
    "\n",
    "    # Si controlla che vengano considerati solamente i file e non le sottocartelle che si andrà a creare\n",
    "    if not os.path.isfile(full_path):\n",
    "        continue\n",
    "    \n",
    "    # Si verifica l' esistenza del file recap.csv\n",
    "    if 'recap.csv' == file:\n",
    "        recap_exists = True\n",
    "        continue\n",
    "    \n",
    "    # Variabile che contiene solo il nome del file senza estensione\n",
    "    file_name = Path(file).stem\n",
    "    # Variabile che contiene la dimensione del file in Byte\n",
    "    file_size = os.path.getsize(full_path)\n",
    "    \n",
    "    # Si creano 2 liste a cui si aggiungeranno i nomi e le dimensioni dei file\n",
    "    list_names.append(file_name)\n",
    "    list_sizes.append(file_size)\n",
    "\n",
    "    # Si convertono tutti file in minuscolo per un controllo migliore\n",
    "    file_lower = file.lower()\n",
    "\n",
    "    # Di seguito si va a dividere i file in base alla loro estensione\n",
    "    \n",
    "    if file_lower.endswith(('.txt', '.odt')):      \n",
    "        # Variabile tipo e cartella di destinazione per i file di tipo documento\n",
    "        file_type = 'doc'\n",
    "        dest_folder = 'Docs'\n",
    "        \n",
    "    elif file_lower.endswith(('.jpg', '.jpeg', '.png')):\n",
    "        # Variabile tipo e cartella di destinazione per i file di tipo immagine\n",
    "        file_type = 'image'\n",
    "        dest_folder = 'Images'\n",
    "\n",
    "    elif file_lower.endswith('.mp3'):\n",
    "        # Variabile tipo e cartella di destinazione per i file di tipo audio\n",
    "        file_type = 'audio'\n",
    "        dest_folder = 'Audio'\n",
    "\n",
    "    else:\n",
    "        # Variabile di controllo per i file di tipo sconosciuto\n",
    "        file_type = 'unknown'\n",
    "        # Non viene assegnato nessun valore alla cartella di destinazione dei file sconosciuti\n",
    "        dest_folder = None\n",
    "\n",
    "    # Lista dei tipi a cui verrà aggiunto il tipo di ogni singolo file\n",
    "    list_types.append(file_type)\n",
    "    # Si stampa a schermo un riepilogo contenente nome, tipo di file e dimensione in Byte(B)\n",
    "    print(file_name, f'type:{file_type}', f'size:{file_size}B')\n",
    "\n",
    "    # Se è stato assegnato un nome alla sottocartella di destinazione allora vi sposteremo il file\n",
    "    if dest_folder:\n",
    "        # Variabile con il percorso della sottocartella\n",
    "        dest_path = os.path.join('files', dest_folder)\n",
    "        # Si crea la sottocartella se non esiste\n",
    "        os.makedirs(dest_path, exist_ok=True)\n",
    "        # Si sposta il file nella sottocartella con il percorso dest_path\n",
    "        shutil.move(full_path, os.path.join(dest_path, file))\n",
    "\n",
    "# Si crea un dizionario con tutti i dati contenuti nella lista\n",
    "dict_recap = {\n",
    "    'name' : list_names,\n",
    "    'type' : list_types,\n",
    "    'size(B)' : list_sizes\n",
    "}\n",
    "# Variabile con il percorso dove salvare il file di recap.csv \n",
    "csv_path = 'files/recap.csv'\n",
    "# Si crea il DataFrame dal dizionario contenente tutti i dati utili per il recap.csv\n",
    "df_recap = pd.DataFrame(dict_recap)\n",
    "\n",
    "# Se il file recap.csv esiste già si aggiorna il csv\n",
    "if recap_exists:\n",
    "    df_recap.to_csv(csv_path, mode='a', header=False, index=False)\n",
    "# Se il recap.csv non esiste viene creato\n",
    "else:\n",
    "    df_recap.to_csv(csv_path, index=False)"
   ]
  },
  {
   "cell_type": "code",
   "execution_count": null,
   "metadata": {},
   "outputs": [
    {
     "name": "stdout",
     "output_type": "stream",
     "text": [
      "bw type:image size:94926B\n",
      "ciao type:doc size:12B\n",
      "daffodil type:image size:24657B\n",
      "eclipse type:image size:64243B\n",
      "pippo type:doc size:8299B\n",
      "song1 type:audio size:1087849B\n",
      "song2 type:audio size:764176B\n",
      "trump type:image size:10195B\n"
     ]
    }
   ],
   "source": [
    "#FILL ME"
   ]
  },
  {
   "cell_type": "markdown",
   "metadata": {},
   "source": [
    "Oltre a stamparne le informazioni via via che li sposti, tieni traccia dei file creando un documento *recap.csv* con le stesse informazioni. Trovi un esempio in questa cartella.\n",
    "\n",
    "La struttura finale della cartella files dovrà essere:\n",
    "\n",
    "        - files            \n",
    "            - audio\n",
    "                - song1.mp3\n",
    "                - song2.mp3\n",
    "            - docs\n",
    "                - ciao.txt\n",
    "                - pippo.odt\n",
    "            - images\n",
    "                - bw.png\n",
    "                - daffodil.jpg\n",
    "                - eclipse.png\n",
    "                - trump.jpeg    \n",
    "            - recap.csv\n",
    "\n",
    "Commenta il codice con i passaggi che fai. Questo vale anche per i prossimi Step.\n",
    "\n",
    "**Attenzione**: lo script, ogni volta che viene lanciato per spostare nuovi file, deve *aggiornare* (e non sovrascrivere) le sottocartelle e il file di recap. Per controllare che tutto funzioni correttamente, puoi aggiungere altri file alla cartella files e fare un test; oppure, puoi dividere gli 8 file originali in due gruppi e lasciarne uno per il test.\n",
    "\n",
    "**Consiglio**: puoi usare le librerie *os*, *shutil* e *csv*. \n",
    "                \n",
    "---"
   ]
  },
  {
   "cell_type": "markdown",
   "metadata": {},
   "source": [
    "**Step 2**\n",
    "\n",
    "Inserisci lo script che hai creato in un piccolo eseguibile (chiamalo *addfile.py* e posizionalo in questa cartella, a fianco del notebook) dotato di *interfaccia a linea di comando* (CLI).\n",
    "\n",
    "Lo scopo dell'eseguibile è spostare un *singolo* file (che si trova nella cartella files) nella sottocartella di competenza, aggiornando il recap.\n",
    "\n",
    "L'interfaccia dell'eseguibile ha come unico argomento (obbligatorio) il nome del file da spostare (comprensivo di formato, es: 'trump.jpeg'). Nel caso in cui il file passato come argomento non esista, l'interfaccia deve comunicarlo all'utente.\n",
    "\n",
    "**Consiglio**: oltre alle precedenti, puoi usare le librerie *sys* e *argparse*.\n",
    "\n",
    "---"
   ]
  },
  {
   "cell_type": "markdown",
   "metadata": {},
   "source": [
    "**Step 3**\n",
    "\n",
    "Una immagine in scala di grigio ha un solo livello di colore, una RGB ne ha 3, una RGBA 4 (l'ultimo è detto canale *alpha*).\n",
    "\n",
    "Il modulo *Image* della libreria *PIL* permette di caricare un'immagine, che può essere trasformata in un array NumPy attraverso la funzione *np.array*. A partire da tale array, è possibile capire se l'immagine caricata è in scala di grigio, RGB o RGBA.\n",
    "\n",
    "Aggiungi al notebook dello Step 1 uno script che iteri sulla sottocartella *images* e costruisca una tabella riassuntiva come questa (prodotta con la libreria *tabulate*):"
   ]
  },
  {
   "cell_type": "code",
   "execution_count": null,
   "metadata": {},
   "outputs": [
    {
     "name": "stdout",
     "output_type": "stream",
     "text": [
      "╒══════════╤══════════╤═════════╤═════════════╤════════╤════════╤═══════╤═════════╕\n",
      "│ name     │   height │   width │   grayscale │      R │      G │     B │   ALPHA │\n",
      "╞══════════╪══════════╪═════════╪═════════════╪════════╪════════╪═══════╪═════════╡\n",
      "│ bw       │      512 │     512 │       21.48 │   0.00 │   0.00 │  0.00 │    0.00 │\n",
      "├──────────┼──────────┼─────────┼─────────────┼────────┼────────┼───────┼─────────┤\n",
      "│ daffodil │      500 │     335 │        0.00 │ 109.23 │  85.52 │  4.77 │    0.00 │\n",
      "├──────────┼──────────┼─────────┼─────────────┼────────┼────────┼───────┼─────────┤\n",
      "│ eclipse  │      256 │     256 │        0.00 │ 109.05 │ 109.52 │ 39.85 │  133.59 │\n",
      "├──────────┼──────────┼─────────┼─────────────┼────────┼────────┼───────┼─────────┤\n",
      "│ trump    │      183 │     275 │        0.00 │  97.01 │  98.99 │ 90.92 │    0.00 │\n",
      "╘══════════╧══════════╧═════════╧═════════════╧════════╧════════╧═══════╧═════════╛\n"
     ]
    }
   ],
   "source": [
    "# Si importano le librerie necessarie per lo svolgimento\n",
    "from PIL import Image\n",
    "from tabulate import tabulate\n",
    "\n",
    "# Si seleziona la cartella di interesse\n",
    "image_dir = os.fsencode('files/Images')\n",
    "\n",
    "# Si inizializzano 1 lista per salvare le varie medie dei signoli colori\n",
    "list_stats = []\n",
    "\n",
    "# Si utilizza un ciclo for per scorrere tutti i file della cartella\n",
    "for im_enc in sorted(os.listdir(image_dir)):\n",
    "\n",
    "    # Si trasformano i file da formato byte a stringa\n",
    "    im_dec = os.fsdecode(im_enc)\n",
    "    # Si salva il percorso completo del file in una variabile\n",
    "    path_img = os.path.join(os.fsdecode(image_dir),im_dec)\n",
    "    # Si apre l'immagine selezionata dal percorso path_img\n",
    "    im = Image.open(path_img)\n",
    "    # Si converte l'immagine in vettore numpy\n",
    "    im_array = np.array(im)\n",
    "    # Si salva la dimensione della matrice in una variabile\n",
    "    shape = im_array.shape\n",
    "    col_mean = im_array.mean(axis=(0,1))\n",
    "    # Si da un valore di default alle variabili\n",
    "    grayscale = red = green = blue = alpha = 0.0\n",
    "    \n",
    "    # Si va a dividere i vari casi di immagine che può esistere\n",
    "    # Si avrà una scala di grigi nel caso di una matrice M x N\n",
    "    if len(shape) == 2:\n",
    "        grayscale = float(col_mean)\n",
    "    # Si avrà un' immagine a colori nel caso di una matrice M x N x L\n",
    "    # Si va a classificare l' immagine come RGB se L = 3\n",
    "    elif len(shape) == 3:\n",
    "        # Variabili rappresentanti i vari canali RGB\n",
    "        red = float(col_mean[0]) # media del canale rosso\n",
    "        green = float(col_mean[1]) # media del canale verde\n",
    "        blue = float(col_mean[2]) # media del canale blu\n",
    "        # Si va a considerare il canale alpha per immagini RGBA, cioè L = 4\n",
    "        if shape[2] == 4:\n",
    "            alpha = float(col_mean[3]) # media del canale alpha\n",
    "    # Si inserisce un controllo per il mancato riconoscimento di un formato\n",
    "    else:\n",
    "        print('Formato non riconosciuto')\n",
    "    # Si va a creare una lista di dizionari che contengono i valori da mostrare nella tabella\n",
    "    list_stats.append({\n",
    "        'name' : Path(path_img).stem,\n",
    "        'height' : shape[0],\n",
    "        'width' : shape[1],\n",
    "        'grayscale' : grayscale,\n",
    "        'R' : red,\n",
    "        'G' : green,\n",
    "        'B' : blue,\n",
    "        'ALPHA' : alpha\n",
    "    })\n",
    "# Si va a stampare a schermo la tabella\n",
    "print(tabulate(list_stats,headers='keys', tablefmt='fancy_grid',floatfmt= '.2f'))"
   ]
  },
  {
   "cell_type": "code",
   "execution_count": 11,
   "metadata": {},
   "outputs": [
    {
     "name": "stdout",
     "output_type": "stream",
     "text": [
      "╒══════════╤══════════╤═════════╤═════════════╤════════╤════════╤═══════╤═════════╕\n",
      "│ name     │   height │   width │   grayscale │      R │      G │     B │   ALPHA │\n",
      "╞══════════╪══════════╪═════════╪═════════════╪════════╪════════╪═══════╪═════════╡\n",
      "│ bw       │      512 │     512 │       21.48 │   0.00 │   0.00 │  0.00 │    0.00 │\n",
      "├──────────┼──────────┼─────────┼─────────────┼────────┼────────┼───────┼─────────┤\n",
      "│ daffodil │      500 │     335 │        0.00 │ 109.25 │  85.56 │  4.97 │    0.00 │\n",
      "├──────────┼──────────┼─────────┼─────────────┼────────┼────────┼───────┼─────────┤\n",
      "│ eclipse  │      256 │     256 │        0.00 │ 109.05 │ 109.52 │ 39.85 │  133.59 │\n",
      "├──────────┼──────────┼─────────┼─────────────┼────────┼────────┼───────┼─────────┤\n",
      "│ trump    │      183 │     275 │        0.00 │  97.01 │  98.99 │ 90.92 │    0.00 │\n",
      "╘══════════╧══════════╧═════════╧═════════════╧════════╧════════╧═══════╧═════════╛\n"
     ]
    }
   ],
   "source": [
    "#FILL ME"
   ]
  },
  {
   "cell_type": "markdown",
   "metadata": {},
   "source": [
    "Oltre al nome del file, la tabella riporta:\n",
    "\n",
    "- altezza dell'immagine, in pixel\n",
    "- larghezza dell'immagine, in pixel\n",
    "- se l'immagine è in scala di grigio, la colonna *grayscale* indica la media dei valori dell'unico livello di colore\n",
    "- se l'immagine è a colori, le altre colonne indicano la media dei valori di ogni livello di colore.\n",
    "\n",
    "---"
   ]
  },
  {
   "cell_type": "markdown",
   "metadata": {},
   "source": [
    "**Dovrai consegnare**:\n",
    "- un notebook con gli Step 1 e 3; per semplicità puoi chiamarlo come questo\n",
    "- addfile.py con quanto richiesto dallo Step 2."
   ]
  }
 ],
 "metadata": {
  "kernelspec": {
   "display_name": "myvenv (3.9.6)",
   "language": "python",
   "name": "python3"
  },
  "language_info": {
   "codemirror_mode": {
    "name": "ipython",
    "version": 3
   },
   "file_extension": ".py",
   "mimetype": "text/x-python",
   "name": "python",
   "nbconvert_exporter": "python",
   "pygments_lexer": "ipython3",
   "version": "3.9.6"
  }
 },
 "nbformat": 4,
 "nbformat_minor": 2
}
